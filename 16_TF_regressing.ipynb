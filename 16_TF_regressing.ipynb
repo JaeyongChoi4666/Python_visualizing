{
 "cells": [
  {
   "cell_type": "code",
   "execution_count": 21,
   "id": "4ba9cf7e-ae7f-45a0-af24-aef907f026ff",
   "metadata": {},
   "outputs": [],
   "source": [
    "import tensorflow.compat.v1 as tf\n",
    "tf.disable_v2_behavior()"
   ]
  },
  {
   "cell_type": "code",
   "execution_count": 5,
   "id": "9d22062f-45c2-4538-815d-a01c95a32b09",
   "metadata": {},
   "outputs": [],
   "source": [
    "tf.set_random_seed(777)"
   ]
  },
  {
   "cell_type": "code",
   "execution_count": 14,
   "id": "e2e75de0-7487-46c3-b481-a8292b4c61fc",
   "metadata": {},
   "outputs": [],
   "source": [
    "x_train=[1,2,3,4,5,6,7,8,9,10,11,12,13,14,15,16,17,18,19,20]\n",
    "y_train=[1,4,9,16,25,36,49,64,81,100,121,144,169,196,225,256,289,324,361,400]"
   ]
  },
  {
   "cell_type": "code",
   "execution_count": 17,
   "id": "a42f4fba-dff0-4f89-b24f-044e236f1240",
   "metadata": {},
   "outputs": [],
   "source": [
    "W=tf.Variable(tf.random_normal([1]), name=\"weight\")\n",
    "b=tf.Variable(tf.random_normal([1]), name=\"bias\")"
   ]
  },
  {
   "cell_type": "code",
   "execution_count": 18,
   "id": "9a602fd2-9172-4892-b716-666b574a2fcd",
   "metadata": {},
   "outputs": [],
   "source": [
    "hypothesis=x_train*W+b\n",
    "cost=tf.reduce_mean(tf.square(hypothesis-y_train))\n",
    "train=tf.train.GradientDescentOptimizer(learning_rate=0.01).minimize(cost)"
   ]
  },
  {
   "cell_type": "code",
   "execution_count": 19,
   "id": "ce399810-4fc1-4707-9634-b37b11010a1d",
   "metadata": {},
   "outputs": [
    {
     "name": "stdout",
     "output_type": "stream",
     "text": [
      "0 39808.055 [45.547794] [3.8381581]\n",
      "400 nan [nan] [nan]\n",
      "800 nan [nan] [nan]\n",
      "1200 nan [nan] [nan]\n",
      "1600 nan [nan] [nan]\n",
      "2000 nan [nan] [nan]\n",
      "2400 nan [nan] [nan]\n",
      "2800 nan [nan] [nan]\n",
      "3200 nan [nan] [nan]\n",
      "3600 nan [nan] [nan]\n",
      "4000 nan [nan] [nan]\n",
      "4400 nan [nan] [nan]\n",
      "4800 nan [nan] [nan]\n",
      "5200 nan [nan] [nan]\n",
      "5600 nan [nan] [nan]\n",
      "6000 nan [nan] [nan]\n",
      "6400 nan [nan] [nan]\n",
      "6800 nan [nan] [nan]\n",
      "7200 nan [nan] [nan]\n",
      "7600 nan [nan] [nan]\n",
      "8000 nan [nan] [nan]\n"
     ]
    }
   ],
   "source": [
    "with tf.Session() as sess:\n",
    "    sess.run(tf.global_variables_initializer())\n",
    "    for step in range(8001):\n",
    "        _, cost_val, W_val, b_val=sess.run([train, cost, W, b])\n",
    "        if (step%400 == 0):\n",
    "            print(step,cost_val,W_val,b_val)"
   ]
  },
  {
   "cell_type": "code",
   "execution_count": 23,
   "id": "84d4e039-b559-44e7-b18d-0bb2f8abf24f",
   "metadata": {},
   "outputs": [
    {
     "name": "stdout",
     "output_type": "stream",
     "text": [
      "0 21.74617 [1.4687948] [-0.06782949]\n",
      "50 0.006125331 [0.9600703] [-0.9600703]\n",
      "100 0.00011949491 [0.99451894] [-0.99451894]\n",
      "150 2.0550694e-06 [0.9992828] [-0.9992828]\n",
      "200 3.465755e-08 [0.9999067] [-0.9999067]\n"
     ]
    }
   ],
   "source": [
    "x_train = [-4.0, 0.0, 4.0]\n",
    "y_train = [15.0,-1.0, 15.0]\n",
    "\n",
    "W1 = tf.Variable(tf.random_normal([1]), name='weight1')\n",
    "W2 = tf.Variable(tf.random_normal([1]), name='weight2')\n",
    "\n",
    "hypothesis = (x_train - W1) * (x_train - W2)\n",
    "\n",
    "cost = tf.reduce_mean(tf.square(hypothesis - y_train))\n",
    "\n",
    "optimizer = tf.train.GradientDescentOptimizer(learning_rate=0.01)\n",
    "train = optimizer.minimize(cost)\n",
    "\n",
    "sess = tf.Session()\n",
    "sess.run(tf.global_variables_initializer())\n",
    "\n",
    "for step in range(201):\n",
    "    sess.run(train)\n",
    "    if step % 50 == 0:\n",
    "        print(step, sess.run(cost), sess.run(W1), sess.run(W2))"
   ]
  }
 ],
 "metadata": {
  "kernelspec": {
   "display_name": "Python 3",
   "language": "python",
   "name": "python3"
  },
  "language_info": {
   "codemirror_mode": {
    "name": "ipython",
    "version": 3
   },
   "file_extension": ".py",
   "mimetype": "text/x-python",
   "name": "python",
   "nbconvert_exporter": "python",
   "pygments_lexer": "ipython3",
   "version": "3.8.8"
  }
 },
 "nbformat": 4,
 "nbformat_minor": 5
}
