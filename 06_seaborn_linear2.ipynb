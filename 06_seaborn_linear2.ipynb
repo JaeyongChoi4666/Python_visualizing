{
 "cells": [
  {
   "cell_type": "code",
   "execution_count": 1,
   "id": "3d3ffbbc-9a7d-4556-b504-ff728f049670",
   "metadata": {},
   "outputs": [],
   "source": [
    "import numpy as np\n",
    "import pandas as pd\n",
    "import matplotlib.pyplot as plt\n",
    "import seaborn as sns\n",
    "from bokeh.io import output_notebook, show\n",
    "from bokeh.plotting import figure"
   ]
  },
  {
   "cell_type": "code",
   "execution_count": 3,
   "id": "3e0f6b2a-890d-4d64-8202-3fa8046fc5b3",
   "metadata": {},
   "outputs": [
    {
     "name": "stderr",
     "output_type": "stream",
     "text": [
      "WARNING:bokeh.core.validation.check:W-1000 (MISSING_RENDERERS): Plot has no renderers: Figure(id='1124', ...)\n"
     ]
    }
   ],
   "source": [
    "p=figure(plot_width=800, plot_height=400)\n",
    "show(p)"
   ]
  },
  {
   "cell_type": "code",
   "execution_count": null,
   "id": "398accee-6c5f-4a89-88d6-167c46935253",
   "metadata": {},
   "outputs": [],
   "source": [
    "import jinja2\n",
    "fron bokeh.embed import components\n",
    "template=jinja2.Template('''\n",
    "\n",
    "\n",
    "\n",
    "\n",
    "''')"
   ]
  }
 ],
 "metadata": {
  "kernelspec": {
   "display_name": "Python 3",
   "language": "python",
   "name": "python3"
  },
  "language_info": {
   "codemirror_mode": {
    "name": "ipython",
    "version": 3
   },
   "file_extension": ".py",
   "mimetype": "text/x-python",
   "name": "python",
   "nbconvert_exporter": "python",
   "pygments_lexer": "ipython3",
   "version": "3.8.8"
  }
 },
 "nbformat": 4,
 "nbformat_minor": 5
}
