{
 "cells": [
  {
   "cell_type": "code",
   "execution_count": 25,
   "id": "e3564f29-0ed2-47c1-83bb-118b8a39eb53",
   "metadata": {},
   "outputs": [
    {
     "data": {
      "image/png": "[encoded data removed]",
      "text/plain": [
       "<Figure size 360x360 with 1 Axes>"
      ]
     },
     "metadata": {
      "needs_background": "light"
     },
     "output_type": "display_data"
    }
   ],
   "source": [
    "import matplotlib.pyplot as plt\n",
    "from matplotlib import font_manager, rc\n",
    "import matplotlib\n",
    "import pandas as pd\n",
    "import seaborn as sns\n",
    "\n",
    "font_location=\"C:/Windows/Fonts/HYKANM.TTF\"\n",
    "font_name=font_manager.FontProperties(fname=font_location).get_name()\n",
    "rc('font',family=font_name)\n",
    "height=[100,120,130,140,150,160,170,180,190]\n",
    "foot_size=[200,205,210,220,230,250,270,280,285]\n",
    "\n",
    "df=pd.DataFrame({'height':height,'foot_size':foot_size})\n",
    "sns.relplot(x='height', y='foot_size', data=df)\n",
    "\n",
    "plt.scatter(height,foot_size)\n",
    "plt.xlabel('키(cm)')\n",
    "plt.ylabel('발크기(mm)')\n",
    "plt.show()"
   ]
  },
  {
   "cell_type": "markdown",
   "id": "46d886fe-aec4-47ba-ab10-2c1d0b32bc4f",
   "metadata": {},
   "source": [
    "# 산포도 드래프 작성"
   ]
  },
  {
   "cell_type": "code",
   "execution_count": 31,
   "id": "de9d19c7-c51b-4df6-b92a-3c00436984d3",
   "metadata": {},
   "outputs": [
    {
     "data": {
      "image/png": "[encoded data removed]",
      "text/plain": [
       "<Figure size 432x288 with 1 Axes>"
      ]
     },
     "metadata": {
      "needs_background": "light"
     },
     "output_type": "display_data"
    }
   ],
   "source": [
    "import numpy as np\n",
    "\n",
    "random_x=np.random.randint(0, 100, 50)\n",
    "random_y=np.random.randint(0, 100, 50)\n",
    "plt.scatter(random_x,random_y)\n",
    "plt.show()"
   ]
  },
  {
   "cell_type": "code",
   "execution_count": 34,
   "id": "9824da1a-bdd6-48f7-8305-e07d0b9f32ef",
   "metadata": {},
   "outputs": [],
   "source": [
    "import math\n",
    "\n",
    "def correlation(x, y):\n",
    "    n = len(x)\n",
    "    vals = range(n)\n",
    "    x_sum = 0.0\n",
    "    y_sum = 0.0\n",
    "    x_sum_pow = 0.0\n",
    "    y_sum_pow = 0.0\n",
    "    mul_xy_sum = 0.0\n",
    "    \n",
    "    for i in vals:\n",
    "        mul_xy_sum = mul_xy_sum + float(x[i]) * float(y[i])\n",
    "        x_sum = x_sum + float(x[i])\n",
    "        y_sum = y_sum + float(y[i])\n",
    "        x_sum_pow = x_sum_pow + pow(float(x[i]), 2)\n",
    "        y_sum_pow = y_sum_pow + pow(float(y[i]), 2)    \n",
    "    try:\n",
    "        r = ((n * mul_xy_sum) - (x_sum * y_sum)) / math.sqrt(((n*x_sum_pow)-pow(x_sum, 2))*((n*y_sum_pow) - pow(y_sum, 2)))\n",
    "    except :\n",
    "        print(\"error\")\n",
    "        r = 0.0\n",
    "    return r"
   ]
  },
  {
   "cell_type": "markdown",
   "id": "594bbcb3-b40b-4768-acdc-50290765a739",
   "metadata": {},
   "source": [
    "# 상관계수의 종류 : Pearson, Kendall, Spearman"
   ]
  },
  {
   "cell_type": "code",
   "execution_count": 35,
   "id": "adcafd4d-24dc-4a8a-a020-7cdcd7859d80",
   "metadata": {},
   "outputs": [
    {
     "data": {
      "text/html": [
       "<div>\n",
       "<style scoped>\n",
       "    .dataframe tbody tr th:only-of-type {\n",
       "        vertical-align: middle;\n",
       "    }\n",
       "\n",
       "    .dataframe tbody tr th {\n",
       "        vertical-align: top;\n",
       "    }\n",
       "\n",
       "    .dataframe thead th {\n",
       "        text-align: right;\n",
       "    }\n",
       "</style>\n",
       "<table border=\"1\" class=\"dataframe\">\n",
       "  <thead>\n",
       "    <tr style=\"text-align: right;\">\n",
       "      <th></th>\n",
       "      <th>total_bill</th>\n",
       "      <th>tip</th>\n",
       "      <th>size</th>\n",
       "    </tr>\n",
       "  </thead>\n",
       "  <tbody>\n",
       "    <tr>\n",
       "      <th>total_bill</th>\n",
       "      <td>1.000000</td>\n",
       "      <td>0.675734</td>\n",
       "      <td>0.598315</td>\n",
       "    </tr>\n",
       "    <tr>\n",
       "      <th>tip</th>\n",
       "      <td>0.675734</td>\n",
       "      <td>1.000000</td>\n",
       "      <td>0.489299</td>\n",
       "    </tr>\n",
       "    <tr>\n",
       "      <th>size</th>\n",
       "      <td>0.598315</td>\n",
       "      <td>0.489299</td>\n",
       "      <td>1.000000</td>\n",
       "    </tr>\n",
       "  </tbody>\n",
       "</table>\n",
       "</div>"
      ],
      "text/plain": [
       "            total_bill       tip      size\n",
       "total_bill    1.000000  0.675734  0.598315\n",
       "tip           0.675734  1.000000  0.489299\n",
       "size          0.598315  0.489299  1.000000"
      ]
     },
     "execution_count": 35,
     "metadata": {},
     "output_type": "execute_result"
    }
   ],
   "source": [
    "tips=sns.load_dataset('tips')\n",
    "tips.corr(method='pearson')"
   ]
  },
  {
   "cell_type": "markdown",
   "id": "7672680e-3d02-49e8-93ee-2eaed3133494",
   "metadata": {},
   "source": [
    "# 상관관계 시각화-HeatMap"
   ]
  },
  {
   "cell_type": "code",
   "execution_count": 56,
   "id": "432f702b-537c-4f18-8e68-0a8b03a84a0f",
   "metadata": {},
   "outputs": [
    {
     "name": "stdout",
     "output_type": "stream",
     "text": [
      "<class 'pandas.core.frame.DataFrame'>\n"
     ]
    },
    {
     "data": {
      "image/png": "[encoded data removed]",
      "text/plain": [
       "<Figure size 432x288 with 2 Axes>"
      ]
     },
     "metadata": {
      "needs_background": "light"
     },
     "output_type": "display_data"
    }
   ],
   "source": [
    "corr=tips.corr(method='pearson')\n",
    "print(type(tips))\n",
    "df_heatmap=sns.heatmap(\n",
    "                        corr, #상관계수값\n",
    "                        cbar=True, #사이드바 표시\n",
    "                        annot=True, #실제값 표시여부\n",
    "                        annot_kws={'size':15}, #글자크기\n",
    "                        fmt='.3f', #소수점 자릿수 지정\n",
    "                        square=True, #정사각형으로 표시여부\n",
    "                        cmap='Blues' #색상지정, Reds, Greens, Blues\n",
    "                        ) "
   ]
  },
  {
   "cell_type": "code",
   "execution_count": 55,
   "id": "84492813-c4d2-497a-9180-4e0ec3cad779",
   "metadata": {},
   "outputs": [
    {
     "name": "stderr",
     "output_type": "stream",
     "text": [
      "<ipython-input-55-94df41e621b6>:2: DeprecationWarning: `np.bool` is a deprecated alias for the builtin `bool`. To silence this warning, use `bool` by itself. Doing this will not modify any behavior and is safe. If you specifically wanted the numpy scalar type, use `np.bool_` here.\n",
      "Deprecated in NumPy 1.20; for more details and guidance: https://numpy.org/devdocs/release/1.20.0-notes.html#deprecations\n",
      "  mask=np.zeros_like(corr, dtype=np.bool)\n"
     ]
    },
    {
     "data": {
      "image/png": "[encoded data removed]",
      "text/plain": [
       "<Figure size 504x504 with 2 Axes>"
      ]
     },
     "metadata": {
      "needs_background": "light"
     },
     "output_type": "display_data"
    }
   ],
   "source": [
    "fig, ax=plt.subplots(figsize=(7,7))\n",
    "mask=np.zeros_like(corr, dtype=np.bool)\n",
    "mask[np.triu_indices_from(mask)]=True\n",
    "df_heatmap=sns.heatmap(\n",
    "    corr, \n",
    "    annot=True,\n",
    "    cbar_kws={'shrink':.8}, \n",
    "    mask=mask,\n",
    "    linewidths=.5,\n",
    "    cmap='Reds', \n",
    "    vmin=0, vmax=1\n",
    ")"
   ]
  }
 ],
 "metadata": {
  "kernelspec": {
   "display_name": "Python 3",
   "language": "python",
   "name": "python3"
  },
  "language_info": {
   "codemirror_mode": {
    "name": "ipython",
    "version": 3
   },
   "file_extension": ".py",
   "mimetype": "text/x-python",
   "name": "python",
   "nbconvert_exporter": "python",
   "pygments_lexer": "ipython3",
   "version": "3.8.8"
  }
 },
 "nbformat": 4,
 "nbformat_minor": 5
}
