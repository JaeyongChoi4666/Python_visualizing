{
 "cells": [
  {
   "cell_type": "code",
   "execution_count": 1,
   "id": "3c756a49",
   "metadata": {},
   "outputs": [
    {
     "name": "stdout",
     "output_type": "stream",
     "text": [
      "x_data.shape =  (10, 1) , t_data.shape =  (10, 1)\n"
     ]
    }
   ],
   "source": [
    "import numpy as np\n",
    "\n",
    "x_data = np.array([2, 4, 6, 8, 10, 12, 14, 16, 18, 20]).reshape(10,1)   \n",
    "t_data = np.array([0, 0, 0, 0,  0,  0,  1,  1,  1,  1]).reshape(10,1)\n",
    "\n",
    "print(\"x_data.shape = \", x_data.shape, \", t_data.shape = \", t_data.shape)"
   ]
  },
  {
   "cell_type": "code",
   "execution_count": 2,
   "id": "9b68ec29",
   "metadata": {},
   "outputs": [
    {
     "name": "stdout",
     "output_type": "stream",
     "text": [
      "W =  [[0.91254005]] , W.shape =  (1, 1) , b =  [0.24030691] , b.shape =  (1,)\n"
     ]
    }
   ],
   "source": [
    "W = np.random.rand(1,1)  \n",
    "b = np.random.rand(1)  \n",
    "print(\"W = \", W, \", W.shape = \", W.shape, \", b = \", b, \", b.shape = \", b.shape)"
   ]
  },
  {
   "cell_type": "code",
   "execution_count": 3,
   "id": "5b0e192b",
   "metadata": {},
   "outputs": [],
   "source": [
    "# 최종출력은 y = sigmoid(Wx+b) 이며, 손실함수는 cross-entropy 로 나타냄\n",
    "\n",
    "def sigmoid(x):\n",
    "    return 1 / (1+np.exp(-x))\n",
    "\n"
   ]
  },
  {
   "cell_type": "code",
   "execution_count": 4,
   "id": "7d0c0036",
   "metadata": {},
   "outputs": [],
   "source": [
    "def loss_func(x, t):\n",
    "    \n",
    "    delta = 1e-7    # log 무한대 발산 방지\n",
    "    \n",
    "    z = np.dot(x,W) + b\n",
    "    y = sigmoid(z)\n",
    "    \n",
    "    # cross-entropy \n",
    "    return  -np.sum( t*np.log(y + delta) + (1-t)*np.log((1 - y)+delta ) )"
   ]
  },
  {
   "cell_type": "code",
   "execution_count": 5,
   "id": "5de57d72",
   "metadata": {},
   "outputs": [],
   "source": [
    "def numerical_derivative(f, x):\n",
    "    delta_x = 1e-4 # 0.0001\n",
    "    grad = np.zeros_like(x)\n",
    "    \n",
    "    it = np.nditer(x, flags=['multi_index'], op_flags=['readwrite'])\n",
    "    \n",
    "    while not it.finished:\n",
    "        idx = it.multi_index        \n",
    "        tmp_val = x[idx]\n",
    "        x[idx] = float(tmp_val) + delta_x\n",
    "        fx1 = f(x) # f(x+delta_x)\n",
    "        \n",
    "        x[idx] = tmp_val - delta_x \n",
    "        fx2 = f(x) # f(x-delta_x)\n",
    "        grad[idx] = (fx1 - fx2) / (2*delta_x)\n",
    "        \n",
    "        x[idx] = tmp_val \n",
    "        it.iternext()   \n",
    "        \n",
    "    return grad"
   ]
  },
  {
   "cell_type": "code",
   "execution_count": 6,
   "id": "6baad1cd",
   "metadata": {},
   "outputs": [],
   "source": [
    "# 손실함수 값 계산 함수\n",
    "# 입력변수 x, t : numpy type\n",
    "def error_val(x, t):\n",
    "    delta = 1e-7    # log 무한대 발산 방지\n",
    "    \n",
    "    z = np.dot(x,W) + b\n",
    "    y = sigmoid(z)\n",
    "    \n",
    "    # cross-entropy \n",
    "    return  -np.sum( t*np.log(y + delta) + (1-t)*np.log((1 - y)+delta ) ) "
   ]
  },
  {
   "cell_type": "code",
   "execution_count": 7,
   "id": "c04d041a",
   "metadata": {},
   "outputs": [],
   "source": [
    "# 학습을 마친 후, 임의의 데이터에 대해 미래 값 예측 함수\n",
    "# 입력변수 x : numpy type\n",
    "def predict(x):\n",
    "    \n",
    "    z = np.dot(x,W) + b\n",
    "    y = sigmoid(z)\n",
    "    \n",
    "    if y >= 0.5:\n",
    "        result = 1  # True\n",
    "    else:\n",
    "        result = 0  # False\n",
    "    \n",
    "    return y, result"
   ]
  },
  {
   "cell_type": "code",
   "execution_count": 8,
   "id": "ec0c9a59",
   "metadata": {},
   "outputs": [
    {
     "name": "stdout",
     "output_type": "stream",
     "text": [
      "Initial error value =  39.903417173347414 Initial W =  [[0.91254005]] \n",
      " , b =  [0.24030691]\n",
      "step =  0 error value =  22.414450026613594 W =  [[0.49683835]] , b =  [0.18415102]\n",
      "step =  400 error value =  2.669314437653799 W =  [[0.29280664]] , b =  [-4.23607964]\n",
      "step =  800 error value =  1.762610212799607 W =  [[0.45875699]] , b =  [-5.71299089]\n",
      "step =  1200 error value =  1.5057231895273737 W =  [[0.53481525]] , b =  [-6.72556782]\n",
      "step =  1600 error value =  1.3441948997380895 W =  [[0.59534627]] , b =  [-7.52925509]\n",
      "step =  2000 error value =  1.2298921398241436 W =  [[0.64638885]] , b =  [-8.20549946]\n",
      "step =  2400 error value =  1.1430697981475588 W =  [[0.69095482]] , b =  [-8.79490179]\n",
      "step =  2800 error value =  1.0739349505882507 W =  [[0.73077971]] , b =  [-9.32083671]\n",
      "step =  3200 error value =  1.017000713999528 W =  [[0.76696219]] , b =  [-9.7980856]\n",
      "step =  3600 error value =  0.9689186579137775 W =  [[0.80024546]] , b =  [-10.23663639]\n",
      "step =  4000 error value =  0.9275117346445767 W =  [[0.83115778]] , b =  [-10.64357991]\n",
      "step =  4400 error value =  0.8912935403324527 W =  [[0.8600892]] , b =  [-11.02414678]\n",
      "step =  4800 error value =  0.859208921586406 W =  [[0.88733672]] , b =  [-11.38231515]\n",
      "step =  5200 error value =  0.8304846976991767 W =  [[0.91313216]] , b =  [-11.72118717]\n",
      "step =  5600 error value =  0.8045391603282079 W =  [[0.93766024]] , b =  [-12.04323269]\n",
      "step =  6000 error value =  0.7809247958952834 W =  [[0.96107079]] , b =  [-12.35045304]\n",
      "step =  6400 error value =  0.7592907002777117 W =  [[0.98348715]] , b =  [-12.64449451]\n",
      "step =  6800 error value =  0.739357143534546 W =  [[1.00501221]] , b =  [-12.92672915]\n",
      "step =  7200 error value =  0.720897892992726 W =  [[1.02573276]] , b =  [-13.19831362]\n",
      "step =  7600 error value =  0.7037276399245438 W =  [[1.04572275]] , b =  [-13.46023282]\n",
      "step =  8000 error value =  0.6876928719317997 W =  [[1.06504576]] , b =  [-13.713333]\n",
      "step =  8400 error value =  0.6726651257190531 W =  [[1.08375691]] , b =  [-13.95834713]\n",
      "step =  8800 error value =  0.6585359182060747 W =  [[1.10190429]] , b =  [-14.19591465]\n",
      "step =  9200 error value =  0.6452128827956377 W =  [[1.11953018]] , b =  [-14.42659706]\n",
      "step =  9600 error value =  0.6326167853692555 W =  [[1.13667192]] , b =  [-14.6508904]\n",
      "step =  10000 error value =  0.6206791920874769 W =  [[1.15336271]] , b =  [-14.86923523]\n",
      "step =  10400 error value =  0.6093406267076613 W =  [[1.16963219]] , b =  [-15.0820248]\n",
      "step =  10800 error value =  0.5985491001119331 W =  [[1.18550696]] , b =  [-15.28961176]\n",
      "step =  11200 error value =  0.5882589260796366 W =  [[1.20101098]] , b =  [-15.49231366]\n",
      "step =  11600 error value =  0.5784297595028556 W =  [[1.21616592]] , b =  [-15.69041762]\n",
      "step =  12000 error value =  0.5690258091404214 W =  [[1.23099144]] , b =  [-15.88418416]\n",
      "step =  12400 error value =  0.56001518855074 W =  [[1.24550547]] , b =  [-16.07385047]\n",
      "step =  12800 error value =  0.5513693773302809 W =  [[1.25972438]] , b =  [-16.25963319]\n",
      "step =  13200 error value =  0.5430627710906938 W =  [[1.27366316]] , b =  [-16.4417308]\n",
      "step =  13600 error value =  0.5350723033412205 W =  [[1.28733561]] , b =  [-16.62032562]\n",
      "step =  14000 error value =  0.5273771260317404 W =  [[1.30075443]] , b =  [-16.79558559]\n",
      "step =  14400 error value =  0.51995833825537 W =  [[1.31393134]] , b =  [-16.96766576]\n",
      "step =  14800 error value =  0.5127987547256977 W =  [[1.32687722]] , b =  [-17.13670965]\n",
      "step =  15200 error value =  0.5058827072886094 W =  [[1.33960214]] , b =  [-17.30285037]\n",
      "step =  15600 error value =  0.4991958740157383 W =  [[1.35211546]] , b =  [-17.46621164]\n",
      "step =  16000 error value =  0.49272513144282815 W =  [[1.36442592]] , b =  [-17.62690869]\n",
      "step =  16400 error value =  0.4864584263213914 W =  [[1.37654166]] , b =  [-17.78504905]\n",
      "step =  16800 error value =  0.48038466389622075 W =  [[1.3884703]] , b =  [-17.9407332]\n",
      "step =  17200 error value =  0.4744936102383253 W =  [[1.40021898]] , b =  [-18.09405526]\n",
      "step =  17600 error value =  0.4687758065802389 W =  [[1.41179437]] , b =  [-18.24510348]\n",
      "step =  18000 error value =  0.4632224939405621 W =  [[1.42320278]] , b =  [-18.39396076]\n",
      "step =  18400 error value =  0.45782554660108976 W =  [[1.43445012]] , b =  [-18.54070507]\n",
      "step =  18800 error value =  0.45257741322743716 W =  [[1.44554196]] , b =  [-18.68540989]\n",
      "step =  19200 error value =  0.44747106461100533 W =  [[1.45648355]] , b =  [-18.82814451]\n",
      "step =  19600 error value =  0.4424999471655201 W =  [[1.46727988]] , b =  [-18.96897437]\n",
      "step =  20000 error value =  0.43765794143970055 W =  [[1.47793563]] , b =  [-19.10796138]\n",
      "step =  20400 error value =  0.43293932501558263 W =  [[1.48845526]] , b =  [-19.24516414]\n",
      "step =  20800 error value =  0.4283387392518071 W =  [[1.49884298]] , b =  [-19.38063821]\n",
      "step =  21200 error value =  0.42385115940689894 W =  [[1.50910281]] , b =  [-19.5144363]\n",
      "step =  21600 error value =  0.4194718677416316 W =  [[1.51923854]] , b =  [-19.6466085]\n",
      "step =  22000 error value =  0.4151964292535696 W =  [[1.5292538]] , b =  [-19.77720241]\n",
      "step =  22400 error value =  0.41102066974277346 W =  [[1.53915202]] , b =  [-19.90626338]\n",
      "step =  22800 error value =  0.4069406559468984 W =  [[1.5489365]] , b =  [-20.0338346]\n",
      "step =  23200 error value =  0.4029526775174906 W =  [[1.55861036]] , b =  [-20.15995724]\n",
      "step =  23600 error value =  0.39905323063768267 W =  [[1.5681766]] , b =  [-20.28467061]\n",
      "step =  24000 error value =  0.3952390031064251 W =  [[1.57763806]] , b =  [-20.40801228]\n",
      "step =  24400 error value =  0.39150686073543545 W =  [[1.58699748]] , b =  [-20.53001814]\n",
      "step =  24800 error value =  0.3878538349237797 W =  [[1.59625748]] , b =  [-20.65072255]\n",
      "step =  25200 error value =  0.3842771112902951 W =  [[1.60542055]] , b =  [-20.7701584]\n",
      "step =  25600 error value =  0.38077401925853654 W =  [[1.6144891]] , b =  [-20.88835722]\n",
      "step =  26000 error value =  0.3773420225004947 W =  [[1.62346542]] , b =  [-21.00534923]\n",
      "step =  26400 error value =  0.3739787101561543 W =  [[1.63235173]] , b =  [-21.12116345]\n",
      "step =  26800 error value =  0.3706817887547968 W =  [[1.64115014]] , b =  [-21.23582773]\n",
      "step =  27200 error value =  0.3674490747723737 W =  [[1.64986269]] , b =  [-21.34936885]\n",
      "step =  27600 error value =  0.3642784877660301 W =  [[1.65849134]] , b =  [-21.46181253]\n",
      "step =  28000 error value =  0.3611680440332485 W =  [[1.66703799]] , b =  [-21.57318355]\n",
      "step =  28400 error value =  0.35811585074843144 W =  [[1.67550443]] , b =  [-21.68350575]\n",
      "step =  28800 error value =  0.3551201005347693 W =  [[1.68389243]] , b =  [-21.79280209]\n",
      "step =  29200 error value =  0.35217906643329977 W =  [[1.69220367]] , b =  [-21.9010947]\n",
      "step =  29600 error value =  0.3492910972349986 W =  [[1.70043978]] , b =  [-22.00840493]\n",
      "step =  30000 error value =  0.3464546131450711 W =  [[1.70860232]] , b =  [-22.11475338]\n"
     ]
    }
   ],
   "source": [
    "learning_rate = 1e-2  # 발산하는 경우, 1e-3 ~ 1e-6 등으로 바꾸어서 실행\n",
    "\n",
    "f = lambda x : loss_func(x_data,t_data)  # f(x) = loss_func(x_data, t_data)\n",
    "\n",
    "print(\"Initial error value = \", error_val(x_data, t_data), \"Initial W = \", W, \"\\n\", \", b = \", b )\n",
    "\n",
    "for step in  range(30001):  \n",
    "    \n",
    "    W -= learning_rate * numerical_derivative(f, W)\n",
    "    \n",
    "    b -= learning_rate * numerical_derivative(f, b)\n",
    "    \n",
    "    if (step % 400 == 0):\n",
    "        print(\"step = \", step, \"error value = \", error_val(x_data, t_data), \"W = \", W, \", b = \",b )"
   ]
  },
  {
   "cell_type": "code",
   "execution_count": 9,
   "id": "a190f9d3",
   "metadata": {},
   "outputs": [
    {
     "name": "stdout",
     "output_type": "stream",
     "text": [
      "[[4.18595255e-08]] 0\n"
     ]
    }
   ],
   "source": [
    "(real_val, logical_val) = predict(3) \n",
    "\n",
    "print(real_val, logical_val)"
   ]
  },
  {
   "cell_type": "code",
   "execution_count": 10,
   "id": "2c316715",
   "metadata": {},
   "outputs": [
    {
     "name": "stdout",
     "output_type": "stream",
     "text": [
      "[[0.9990244]] 1\n"
     ]
    }
   ],
   "source": [
    "(real_val, logical_val) = predict(17) \n",
    "\n",
    "print(real_val, logical_val)"
   ]
  }
 ],
 "metadata": {
  "kernelspec": {
   "display_name": "Python 3",
   "language": "python",
   "name": "python3"
  },
  "language_info": {
   "codemirror_mode": {
    "name": "ipython",
    "version": 3
   },
   "file_extension": ".py",
   "mimetype": "text/x-python",
   "name": "python",
   "nbconvert_exporter": "python",
   "pygments_lexer": "ipython3",
   "version": "3.8.8"
  }
 },
 "nbformat": 4,
 "nbformat_minor": 5
}
