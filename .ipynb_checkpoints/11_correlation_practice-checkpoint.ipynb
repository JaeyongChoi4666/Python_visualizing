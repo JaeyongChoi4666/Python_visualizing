{
 "cells": [
  {
   "cell_type": "markdown",
   "id": "e7ceab03-107f-4ee4-88ec-a1ed37bfaa70",
   "metadata": {},
   "source": [
    "# 상관관계 분석 - 공공데이터를 이용한 상관분석\n",
    "- 서울특별시_관광지입장정보_2011_2016.json\n",
    "- 미국(275)_해외방문객정보_2011_2016.json\n",
    "- 일본(130)_해외방문객정보_2011_2016.json\n",
    "- 중국(112)_해외방문객정보_2011_2016.json"
   ]
  },
  {
   "cell_type": "code",
   "execution_count": 4,
   "id": "ad575abd-f20e-4f6c-a5cb-2f12a9faa543",
   "metadata": {},
   "outputs": [],
   "source": [
    "import json"
   ]
  },
  {
   "cell_type": "code",
   "execution_count": 5,
   "id": "563966fc-0a43-4ae5-a26e-6d1463672eed",
   "metadata": {},
   "outputs": [],
   "source": [
    "#[CODE 4]\n",
    "toFileName = 'json/서울특별시_관광지입장정보_2011_2016.json'\n",
    "jsonTP = json.loads(open(toFileName,'r',encoding='utf-8').read())\n",
    "jsonTP"
   ]
  }
 ],
 "metadata": {
  "kernelspec": {
   "display_name": "Python 3",
   "language": "python",
   "name": "python3"
  },
  "language_info": {
   "codemirror_mode": {
    "name": "ipython",
    "version": 3
   },
   "file_extension": ".py",
   "mimetype": "text/x-python",
   "name": "python",
   "nbconvert_exporter": "python",
   "pygments_lexer": "ipython3",
   "version": "3.8.8"
  }
 },
 "nbformat": 4,
 "nbformat_minor": 5
}
