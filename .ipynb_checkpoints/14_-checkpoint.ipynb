{
 "cells": [
  {
   "cell_type": "code",
   "execution_count": 5,
   "id": "c24fb3c3-febc-45d0-8273-d43bf08d8429",
   "metadata": {},
   "outputs": [],
   "source": [
    "import numpy as np"
   ]
  },
  {
   "cell_type": "code",
   "execution_count": 6,
   "id": "24a4fcdc-30b7-45c8-8ae9-5bf3ff7d4a1c",
   "metadata": {},
   "outputs": [],
   "source": [
    "x_data=np.array([1,2,3,4,5]).reshape(5,1)\n",
    "t_data=np.array([2,3,4,5,6]).reshape(5,1)"
   ]
  },
  {
   "cell_type": "code",
   "execution_count": 7,
   "id": "e76f9cc2-0df7-4d41-8ec3-123685726179",
   "metadata": {},
   "outputs": [
    {
     "name": "stdout",
     "output_type": "stream",
     "text": [
      "W: [[0.20153717]] , W.shape: (1, 1)\n",
      "b: [0.0682117] , b.shape: (1,)\n"
     ]
    }
   ],
   "source": [
    "W=np.random.rand(1,1)\n",
    "b=np.random.rand(1)\n",
    "print(\"W:\",W,\", W.shape:\",W.shape)\n",
    "print(\"b:\",b,\", b.shape:\",b.shape)"
   ]
  },
  {
   "cell_type": "code",
   "execution_count": 8,
   "id": "d463d9d7-f49a-4c5d-9b01-ace502f04748",
   "metadata": {},
   "outputs": [],
   "source": [
    "def loss_func(x,t):\n",
    "    y=np.dot(x,W)+b\n",
    "    return (np.sum((t-y)**2))/(len(x))"
   ]
  },
  {
   "cell_type": "code",
   "execution_count": 9,
   "id": "8b8de42b-4b02-4a87-82d0-54cd9010eaee",
   "metadata": {},
   "outputs": [],
   "source": [
    "def numerical_derivative(f,x):\n",
    "    delta_x=1e-4\n",
    "    grad=np.zeros_like(x)\n",
    "    it=np.nditer(x, flags=['multi_index'],op_flags=['readwrite']) #이터레이터\n",
    "    while not it.finished:\n",
    "        idx=it.multi_index\n",
    "        tmp_val=x[idx]\n",
    "        \n",
    "        x[idx]=float(tmp_val) + delta_x\n",
    "        fx1=f(x)\n",
    "        x[idx]=float(tmp_val) - delta_x\n",
    "        fx2=f(x)\n",
    "        grad[idx]=(fx1-fx2)/(2*delta_x)\n",
    "        \n",
    "        x[idx]=tmp_val\n",
    "        it.iternext\n",
    "    return grad"
   ]
  },
  {
   "cell_type": "code",
   "execution_count": 4,
   "id": "c07617be-82a4-4e4c-ab72-de8e4854925d",
   "metadata": {},
   "outputs": [],
   "source": [
    "def error_val(x,t):\n",
    "    y=np.dot(x,W)+b\n",
    "    return (np.sum((t-y)**2))/(len(x))"
   ]
  },
  {
   "cell_type": "code",
   "execution_count": 1,
   "id": "afc3e431-3ec5-49af-a087-eb840f958b84",
   "metadata": {},
   "outputs": [],
   "source": [
    "def predict(x):\n",
    "    y=np.dot(x,W)+b\n",
    "    return y   "
   ]
  },
  {
   "cell_type": "code",
   "execution_count": null,
   "id": "5e86b251-d1ef-4dad-b454-849ba17926a6",
   "metadata": {},
   "outputs": [
    {
     "name": "stdout",
     "output_type": "stream",
     "text": [
      "initial error value= 12.345191105124021 initial W= [[0.20153717]] , b= [0.0682117]\n"
     ]
    }
   ],
   "source": [
    "learning_rate=1e-2\n",
    "f=lambda x:loss_func(x_data,t_data)\n",
    "\n",
    "print('Initial error value=',error_val(x_data,t_data),\"Initial W=\",W,\" b=\",b)\n",
    "\n",
    "for step in range(8001):\n",
    "    W-=learning_rate*numerical_derivative(f,W)\n",
    "    b-=learning_rate*numerical_derivative(f,b)\n",
    "    \n",
    "    if (step%400==0):\n",
    "        print(\"step=\",step, \"error value=\",error_val(x_data,t_data),\"W=\",W, \"b=\",b)   "
   ]
  },
  {
   "cell_type": "code",
   "execution_count": null,
   "id": "a20ebc2f-c5fc-45c9-b552-9ed8b4240299",
   "metadata": {},
   "outputs": [],
   "source": []
  }
 ],
 "metadata": {
  "kernelspec": {
   "display_name": "Python 3",
   "language": "python",
   "name": "python3"
  },
  "language_info": {
   "codemirror_mode": {
    "name": "ipython",
    "version": 3
   },
   "file_extension": ".py",
   "mimetype": "text/x-python",
   "name": "python",
   "nbconvert_exporter": "python",
   "pygments_lexer": "ipython3",
   "version": "3.8.8"
  }
 },
 "nbformat": 4,
 "nbformat_minor": 5
}
