{
 "cells": [
  {
   "cell_type": "code",
   "execution_count": 1,
   "id": "caadf37d-bfeb-47c1-bccc-49d7ae4a4ffc",
   "metadata": {},
   "outputs": [
    {
     "name": "stdout",
     "output_type": "stream",
     "text": [
      "WARNING:tensorflow:From C:\\Users\\ADMIN\\anaconda3\\lib\\site-packages\\tensorflow\\python\\compat\\v2_compat.py:96: disable_resource_variables (from tensorflow.python.ops.variable_scope) is deprecated and will be removed in a future version.\n",
      "Instructions for updating:\n",
      "non-resource variables are not supported in the long term\n"
     ]
    }
   ],
   "source": [
    "import tensorflow.compat.v1 as tf\n",
    "tf.disable_v2_behavior()"
   ]
  },
  {
   "cell_type": "code",
   "execution_count": 5,
   "id": "ee0ebc87-beae-4d5b-97f9-9e4d4c374d14",
   "metadata": {},
   "outputs": [
    {
     "name": "stdout",
     "output_type": "stream",
     "text": [
      "x_data.ndim= 2 , x_data.shape= (25, 3)\n",
      "t_data.ndim= 2 , t_data.shape= (25, 1)\n"
     ]
    }
   ],
   "source": [
    "import numpy as np\n",
    "a=[1,2,3,4,5]\n",
    "\n",
    "load_data=np.loadtxt('csv/data-01-test-score.csv',delimiter=',', dtype=np.float32)\n",
    "\n",
    "x_data=load_data[ : ,0:-1]\n",
    "t_data=load_data[ : ,[-1]]\n",
    "\n",
    "print(\"x_data.ndim=\",x_data.ndim, \", x_data.shape=\", x_data.shape)\n",
    "print(\"t_data.ndim=\",t_data.ndim, \", t_data.shape=\", t_data.shape)"
   ]
  },
  {
   "cell_type": "code",
   "execution_count": 6,
   "id": "3234b2a9-b1cb-4ddf-b2c3-761dca6dd89a",
   "metadata": {},
   "outputs": [
    {
     "name": "stdout",
     "output_type": "stream",
     "text": [
      "W= [[0.70194788]\n",
      " [0.66166838]\n",
      " [0.76825951]] W.shape= (3, 1) b= [0.56148325] b.shape= (1,)\n"
     ]
    }
   ],
   "source": [
    "W=np.random.rand(3,1)\n",
    "b=np.random.rand(1)\n",
    "print('W=',W, 'W.shape=',W.shape,\"b=\",b, 'b.shape=',b.shape)"
   ]
  }
 ],
 "metadata": {
  "kernelspec": {
   "display_name": "Python 3",
   "language": "python",
   "name": "python3"
  },
  "language_info": {
   "codemirror_mode": {
    "name": "ipython",
    "version": 3
   },
   "file_extension": ".py",
   "mimetype": "text/x-python",
   "name": "python",
   "nbconvert_exporter": "python",
   "pygments_lexer": "ipython3",
   "version": "3.8.8"
  }
 },
 "nbformat": 4,
 "nbformat_minor": 5
}
