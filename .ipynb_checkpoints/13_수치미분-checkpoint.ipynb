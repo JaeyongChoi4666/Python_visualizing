{
 "cells": [
  {
   "cell_type": "markdown",
   "id": "e08d25dc-35fe-48b4-8b2b-bb622a1ec4a3",
   "metadata": {},
   "source": [
    "# f(x)=x^2일때 f'(3)구하기"
   ]
  },
  {
   "cell_type": "code",
   "execution_count": 1,
   "id": "bba74090-eb9d-4771-a058-a98cd22d9b0e",
   "metadata": {},
   "outputs": [],
   "source": [
    "import numpy as np"
   ]
  },
  {
   "cell_type": "code",
   "execution_count": 2,
   "id": "04e69cb2-65a4-4359-8538-5cdb3d462321",
   "metadata": {},
   "outputs": [],
   "source": [
    "def my_func1(x):\n",
    "    return x**2"
   ]
  },
  {
   "cell_type": "code",
   "execution_count": 3,
   "id": "57bb605e-f162-48bd-9b15-8072f0bd9190",
   "metadata": {},
   "outputs": [],
   "source": [
    "def numerical_derivative(f,x):\n",
    "    delta_x=1e-4\n",
    "    return (f(x+delta_x)-f(x-delta_x))/(2*delta_x)"
   ]
  },
  {
   "cell_type": "code",
   "execution_count": 4,
   "id": "9e931e39-5736-4821-84f3-3aaf3876f390",
   "metadata": {},
   "outputs": [
    {
     "name": "stdout",
     "output_type": "stream",
     "text": [
      "result: 6.000000000012662\n"
     ]
    }
   ],
   "source": [
    "result=numerical_derivative(my_func1,3)\n",
    "print(\"result:\",result)"
   ]
  },
  {
   "cell_type": "markdown",
   "id": "99efce3d-02a8-4625-b242-3e3b5778331e",
   "metadata": {},
   "source": [
    "# f(x)=3xe^x일때 f'(2)구하기"
   ]
  },
  {
   "cell_type": "code",
   "execution_count": 5,
   "id": "7543550c-c3a1-4ca7-947c-7c251176993d",
   "metadata": {},
   "outputs": [],
   "source": [
    "def my_func2(x):\n",
    "    return 3*x*(np.exp(x))"
   ]
  },
  {
   "cell_type": "code",
   "execution_count": 9,
   "id": "efa5c7f9-a5a4-4cf5-a1e9-604121a995f9",
   "metadata": {},
   "outputs": [
    {
     "name": "stdout",
     "output_type": "stream",
     "text": [
      "result: 66.50150507518049 , 실제 계산값: 66.50150489037586\n"
     ]
    }
   ],
   "source": [
    "result=numerical_derivative(my_func2,2)\n",
    "print(\"result:\",result, \", 실제 계산값:\", 3*np.exp(2)+3*2*np.exp(2))"
   ]
  },
  {
   "cell_type": "markdown",
   "id": "ed0fca7b-398d-4d2e-9e32-fd4266971c6c",
   "metadata": {},
   "source": [
    "# 다변수 함수의 미분"
   ]
  },
  {
   "cell_type": "code",
   "execution_count": 2,
   "id": "f0a77d41-9f0d-42ce-acd6-e81e5da56d88",
   "metadata": {},
   "outputs": [],
   "source": [
    "def numerical_derivative(f,x):\n",
    "    delta_x=1e-4\n",
    "    grad=np.zeros_like(x)\n",
    "    it=np.nditer(x, flags=['multi_index'],op_flags=['readwrite']) #이터레이터\n",
    "    while not it.finished:\n",
    "        idx=it.multi_index\n",
    "        tmp_val=x[idx]\n",
    "        \n",
    "        x[idx]=float(tmp_val) + delta_x\n",
    "        fx1=f(x)\n",
    "        x[idx]=float(tmp_val) - delta_x\n",
    "        fx2=f(x)\n",
    "        grad[idx]=(fx1-fx2)/(2*delta_x)\n",
    "        \n",
    "        x[idx]=tmp_val\n",
    "        it.iternext\n",
    "    return grad"
   ]
  },
  {
   "cell_type": "code",
   "execution_count": null,
   "id": "b73f757c-96c9-436f-a3ca-88da1cfec632",
   "metadata": {},
   "outputs": [],
   "source": [
    "def func1(input_obj):\n",
    "    x=input_obj[0]\n",
    "    return x**2\n",
    "\n",
    "numerical_derivative(func1,np.array([3.0]))"
   ]
  },
  {
   "cell_type": "code",
   "execution_count": null,
   "id": "f2d66201-8aec-4c87-9e99-f0d76a38f95a",
   "metadata": {},
   "outputs": [],
   "source": [
    "def func1(input_obj):\n",
    "    x=input_obj[0]\n",
    "    y=input_obj[1]\n",
    "    return (2*x+3*x*y+np.power(y,3))"
   ]
  }
 ],
 "metadata": {
  "kernelspec": {
   "display_name": "Python 3",
   "language": "python",
   "name": "python3"
  },
  "language_info": {
   "codemirror_mode": {
    "name": "ipython",
    "version": 3
   },
   "file_extension": ".py",
   "mimetype": "text/x-python",
   "name": "python",
   "nbconvert_exporter": "python",
   "pygments_lexer": "ipython3",
   "version": "3.8.8"
  }
 },
 "nbformat": 4,
 "nbformat_minor": 5
}
