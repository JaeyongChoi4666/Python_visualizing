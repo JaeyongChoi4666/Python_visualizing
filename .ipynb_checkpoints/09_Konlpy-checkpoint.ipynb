{
 "cells": [
  {
   "cell_type": "code",
   "execution_count": 1,
   "id": "d692639b-7cbb-4992-a3ea-cbea74ee620a",
   "metadata": {},
   "outputs": [
    {
     "name": "stdout",
     "output_type": "stream",
     "text": [
      "Collecting konlpy\n",
      "  Downloading konlpy-0.5.2-py2.py3-none-any.whl (19.4 MB)\n",
      "Collecting tweepy>=3.7.0\n",
      "  Downloading tweepy-3.10.0-py2.py3-none-any.whl (30 kB)\n",
      "Requirement already satisfied: lxml>=4.1.0 in c:\\users\\admin\\anaconda3\\lib\\site-packages (from konlpy) (4.6.3)\n",
      "Requirement already satisfied: colorama in c:\\users\\admin\\anaconda3\\lib\\site-packages (from konlpy) (0.4.4)\n",
      "Collecting beautifulsoup4==4.6.0\n",
      "  Downloading beautifulsoup4-4.6.0-py3-none-any.whl (86 kB)\n",
      "Requirement already satisfied: JPype1>=0.7.0 in c:\\users\\admin\\anaconda3\\lib\\site-packages (from konlpy) (1.2.0)\n",
      "Requirement already satisfied: numpy>=1.6 in c:\\users\\admin\\anaconda3\\lib\\site-packages (from konlpy) (1.20.1)\n",
      "Requirement already satisfied: requests[socks]>=2.11.1 in c:\\users\\admin\\anaconda3\\lib\\site-packages (from tweepy>=3.7.0->konlpy) (2.25.1)\n",
      "Collecting requests-oauthlib>=0.7.0\n",
      "  Downloading requests_oauthlib-1.3.0-py2.py3-none-any.whl (23 kB)\n",
      "Requirement already satisfied: six>=1.10.0 in c:\\users\\admin\\anaconda3\\lib\\site-packages (from tweepy>=3.7.0->konlpy) (1.15.0)\n",
      "Collecting oauthlib>=3.0.0\n",
      "  Downloading oauthlib-3.1.0-py2.py3-none-any.whl (147 kB)\n",
      "Requirement already satisfied: urllib3<1.27,>=1.21.1 in c:\\users\\admin\\anaconda3\\lib\\site-packages (from requests[socks]>=2.11.1->tweepy>=3.7.0->konlpy) (1.26.4)\n",
      "Requirement already satisfied: chardet<5,>=3.0.2 in c:\\users\\admin\\anaconda3\\lib\\site-packages (from requests[socks]>=2.11.1->tweepy>=3.7.0->konlpy) (4.0.0)\n",
      "Requirement already satisfied: certifi>=2017.4.17 in c:\\users\\admin\\anaconda3\\lib\\site-packages (from requests[socks]>=2.11.1->tweepy>=3.7.0->konlpy) (2020.12.5)\n",
      "Requirement already satisfied: idna<3,>=2.5 in c:\\users\\admin\\anaconda3\\lib\\site-packages (from requests[socks]>=2.11.1->tweepy>=3.7.0->konlpy) (2.10)\n",
      "Requirement already satisfied: PySocks!=1.5.7,>=1.5.6 in c:\\users\\admin\\anaconda3\\lib\\site-packages (from requests[socks]>=2.11.1->tweepy>=3.7.0->konlpy) (1.7.1)\n",
      "Installing collected packages: oauthlib, requests-oauthlib, tweepy, beautifulsoup4, konlpy\n",
      "  Attempting uninstall: beautifulsoup4\n",
      "    Found existing installation: beautifulsoup4 4.9.3\n",
      "    Uninstalling beautifulsoup4-4.9.3:\n",
      "      Successfully uninstalled beautifulsoup4-4.9.3\n",
      "Successfully installed beautifulsoup4-4.6.0 konlpy-0.5.2 oauthlib-3.1.0 requests-oauthlib-1.3.0 tweepy-3.10.0\n",
      "Note: you may need to restart the kernel to use updated packages.\n"
     ]
    }
   ],
   "source": [
    "pip install konlpy"
   ]
  },
  {
   "cell_type": "code",
   "execution_count": 25,
   "id": "84e61223-cc72-474d-95b9-7a16e170fbfe",
   "metadata": {},
   "outputs": [],
   "source": [
    "from konlpy.tag import Hannanum\n",
    "hannanum = Hannanum()"
   ]
  },
  {
   "cell_type": "code",
   "execution_count": 30,
   "id": "ecf5ac04-10d7-4182-90fd-e39258e91fef",
   "metadata": {},
   "outputs": [
    {
     "name": "stdout",
     "output_type": "stream",
     "text": [
      "[[[('이준석', 'ncn')], [('이준석', 'nqq')]], [[('\"', 'sl'), ('호랑이', 'ncn')], [('\"', 'sl'), ('호랑', 'ncn'), ('이', 'jcc')], [('\"', 'sl'), ('호랑', 'ncn'), ('이', 'jcs')], [('\"', 'sl'), ('호랑', 'ncn'), ('이', 'ncn')], [('\"', 'sl'), ('호', 'nbu'), ('랑', 'jca'), ('이', 'jcc')], [('\"', 'sl'), ('호', 'ncn'), ('랑', 'jca'), ('이', 'jcc')], [('\"', 'sr'), ('호랑이', 'ncn')], [('\"', 'sr'), ('호랑', 'ncn'), ('이', 'jcc')], [('\"', 'sr'), ('호랑', 'ncn'), ('이', 'jcs')], [('\"', 'sr'), ('호랑', 'ncn'), ('이', 'ncn')], [('\"', 'sr'), ('호', 'nbu'), ('랑', 'jca'), ('이', 'jcc')], [('\"', 'sr'), ('호', 'ncn'), ('랑', 'jca'), ('이', 'jcc')]], [[('등에', 'ncn')], [('등', 'nbn'), ('에', 'jca')], [('등', 'nbu'), ('에', 'jca')], [('등', 'ncn'), ('에', 'jca')]], [[('탔다…당', 'ncn'), ('선', 'jxc')], [('탔다…당선', 'ncn')], [('탔다…당', 'nqq'), ('선', 'jxc')], [('탔다…당선', 'nqq')]], [[('가능성', 'ncn'), (',', 'sp')], [('가능', 'ncn'), ('성', 'ncn'), (',', 'sp')], [('가능', 'ncpa'), ('성', 'ncn'), (',', 'sp')], [('가능', 'ncpa'), ('성', 'xsna'), (',', 'sp')], [('가능', 'ncps'), ('성', 'ncn'), (',', 'sp')], [('가능', 'ncps'), ('성', 'xsns'), (',', 'sp')]], [[('절반', 'ncn'), ('은', 'jxc')], [('절반', 'ncn'), ('은', 'ncn')]], [[('넘', 'pvg'), ('어서', 'ecs'), ('\"', 'sr'), ('(', 'sl'), ('종합', 'ncpa'), (')', 'sr')], [('넘', 'pvg'), ('어서', 'ef'), ('\"', 'sr'), ('(', 'sl'), ('종합', 'ncpa'), (')', 'sr')], [('넘', 'pvg'), ('어서', 'ep'), ('어', 'ecs'), ('\"', 'sr'), ('(', 'sl'), ('종합', 'ncpa'), (')', 'sr')], [('넘', 'pvg'), ('어서', 'ep'), ('어', 'ef'), ('\"', 'sr'), ('(', 'sl'), ('종합', 'ncpa'), (')', 'sr')], [('넘어서', 'pvg'), ('어', 'ecs'), ('\"', 'sr'), ('(', 'sl'), ('종합', 'ncpa'), (')', 'sr')], [('넘어서', 'pvg'), ('어', 'ef'), ('\"', 'sr'), ('(', 'sl'), ('종합', 'ncpa'), (')', 'sr')]]]\n"
     ]
    }
   ],
   "source": [
    "print(hannanum.analyze('이준석 \"호랑이 등에 탔다…당선 가능성, 절반은 넘어서\"(종합)'))"
   ]
  },
  {
   "cell_type": "code",
   "execution_count": 31,
   "id": "ab7a9fa8-1e5e-4cba-95df-d4b8b33d3e6d",
   "metadata": {},
   "outputs": [],
   "source": [
    "from konlpy.tag import Kkma\n",
    "kkma = Kkma()"
   ]
  },
  {
   "cell_type": "code",
   "execution_count": 32,
   "id": "a7670743-0e8b-47fa-9bc5-089a9b0f52e8",
   "metadata": {},
   "outputs": [
    {
     "name": "stdout",
     "output_type": "stream",
     "text": [
      "['이', '준석', '\"', '호랑이', '등에', '타', '었', '다', '…', '당선', '가능성', ',', '절반', '은', '넘', '어서', '\"', '(', '종합', ')']\n"
     ]
    }
   ],
   "source": [
    "print(kkma.morphs(u'이준석 \"호랑이 등에 탔다…당선 가능성, 절반은 넘어서\"(종합)'))"
   ]
  },
  {
   "cell_type": "code",
   "execution_count": 33,
   "id": "5365b3ae-10fd-4a82-9268-b2e31af61c05",
   "metadata": {},
   "outputs": [
    {
     "name": "stdout",
     "output_type": "stream",
     "text": [
      "['준석', '호랑이', '등에', '당선', '가능성', '절반', '종합']\n"
     ]
    }
   ],
   "source": [
    "print(kkma.nouns(u'이준석 \"호랑이 등에 탔다…당선 가능성, 절반은 넘어서\"(종합)'))"
   ]
  },
  {
   "cell_type": "code",
   "execution_count": 34,
   "id": "f784e91b-97f2-4c39-9af9-30f4548cad85",
   "metadata": {},
   "outputs": [
    {
     "name": "stdout",
     "output_type": "stream",
     "text": [
      "[('이', 'MDT'), ('준석', 'NNG'), ('\"', 'SS'), ('호랑이', 'NNG'), ('등에', 'NNG'), ('타', 'VV'), ('었', 'EPT'), ('다', 'ECS'), ('…', 'SE'), ('당선', 'NNG'), ('가능성', 'NNG'), (',', 'SP'), ('절반', 'NNG'), ('은', 'JX'), ('넘', 'VV'), ('어서', 'ECD'), ('\"', 'SS'), ('(', 'SS'), ('종합', 'NNG'), (')', 'SS')]\n"
     ]
    }
   ],
   "source": [
    "print(kkma.pos(u'이준석 \"호랑이 등에 탔다…당선 가능성, 절반은 넘어서\"(종합)'))"
   ]
  },
  {
   "cell_type": "code",
   "execution_count": 35,
   "id": "2c3f6869-c5df-4f52-9945-00d1dd224152",
   "metadata": {},
   "outputs": [],
   "source": [
    "from konlpy.tag import Okt\n",
    "okt = Okt()"
   ]
  },
  {
   "cell_type": "code",
   "execution_count": 37,
   "id": "34340357-3b88-4c29-b6ed-a0484aaa8dc9",
   "metadata": {},
   "outputs": [
    {
     "name": "stdout",
     "output_type": "stream",
     "text": [
      "['이준석', '\"', '호랑이', '등', '에', '탔다', '…', '당선', '가능성', ',', '절반', '은', '넘어서', '\"(', '종합', ')']\n"
     ]
    }
   ],
   "source": [
    "print(okt.morphs(u'이준석 \"호랑이 등에 탔다…당선 가능성, 절반은 넘어서\"(종합)'))"
   ]
  },
  {
   "cell_type": "code",
   "execution_count": 36,
   "id": "34352333-b57b-4311-a0f7-580de73b4b4b",
   "metadata": {},
   "outputs": [
    {
     "name": "stdout",
     "output_type": "stream",
     "text": [
      "['이준석', '호랑이', '등', '당선', '가능성', '절반', '종합']\n"
     ]
    }
   ],
   "source": [
    "print(okt.nouns(u'이준석 \"호랑이 등에 탔다…당선 가능성, 절반은 넘어서\"(종합)'))"
   ]
  },
  {
   "cell_type": "code",
   "execution_count": 38,
   "id": "59b226fd-c4a4-4de3-968d-9b8be1cea0f2",
   "metadata": {},
   "outputs": [
    {
     "name": "stdout",
     "output_type": "stream",
     "text": [
      "['이준석', '호랑이', '호랑이 등', '당선', '당선 가능성', '절반', '종합', '가능성']\n"
     ]
    }
   ],
   "source": [
    "print(okt.phrases(u'이준석 \"호랑이 등에 탔다…당선 가능성, 절반은 넘어서\"(종합)'))"
   ]
  }
 ],
 "metadata": {
  "kernelspec": {
   "display_name": "Python 3",
   "language": "python",
   "name": "python3"
  },
  "language_info": {
   "codemirror_mode": {
    "name": "ipython",
    "version": 3
   },
   "file_extension": ".py",
   "mimetype": "text/x-python",
   "name": "python",
   "nbconvert_exporter": "python",
   "pygments_lexer": "ipython3",
   "version": "3.8.8"
  }
 },
 "nbformat": 4,
 "nbformat_minor": 5
}
