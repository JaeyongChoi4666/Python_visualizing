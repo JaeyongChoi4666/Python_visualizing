{
 "cells": [
  {
   "cell_type": "code",
   "execution_count": 6,
   "id": "84a08893-3a96-4115-b25c-696551e2f5b4",
   "metadata": {},
   "outputs": [],
   "source": [
    "from tensorflow.keras.datasets import mnist\n",
    "(x_train,t_train), (x_test,t_test)=mnist.load_data()\n",
    "print('\\n train shape=',x_train.shape,', train label shape=',t_train.shape)\n",
    "print('test shape=',x_test.shape,', test label shape=',t_test.shape)"
   ]
  },
  {
   "cell_type": "code",
   "execution_count": null,
   "id": "b75786df-a0cb-40dd-b126-39fd2ebdfd3f",
   "metadata": {},
   "outputs": [],
   "source": [
    "import matplotlib.pyplot as plt\n",
    "\n",
    "plt.figure"
   ]
  }
 ],
 "metadata": {
  "kernelspec": {
   "display_name": "Python 3",
   "language": "python",
   "name": "python3"
  },
  "language_info": {
   "codemirror_mode": {
    "name": "ipython",
    "version": 3
   },
   "file_extension": ".py",
   "mimetype": "text/x-python",
   "name": "python",
   "nbconvert_exporter": "python",
   "pygments_lexer": "ipython3",
   "version": "3.8.8"
  }
 },
 "nbformat": 4,
 "nbformat_minor": 5
}
