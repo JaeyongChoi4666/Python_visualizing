{
 "cells": [
  {
   "cell_type": "code",
   "execution_count": 4,
   "id": "6e3b820e",
   "metadata": {},
   "outputs": [],
   "source": [
    "import numpy as np"
   ]
  },
  {
   "cell_type": "code",
   "execution_count": 5,
   "id": "87c9e1cc",
   "metadata": {},
   "outputs": [
    {
     "name": "stdout",
     "output_type": "stream",
     "text": [
      "(5, 1)\n",
      "(5, 1)\n"
     ]
    }
   ],
   "source": [
    "x_data=np.array([1,2,3,4,5]).reshape(5,1)\n",
    "t_data=np.array([2,3,4,5,6]).reshape(5,1)\n",
    "print(x_data.shape)\n",
    "print(t_data.shape)"
   ]
  },
  {
   "cell_type": "code",
   "execution_count": 6,
   "id": "5bfe139b",
   "metadata": {},
   "outputs": [
    {
     "name": "stdout",
     "output_type": "stream",
     "text": [
      "W= [[0.86052085]] W.shape= (1, 1) b= [0.00286435] b.shape= (1,)\n"
     ]
    }
   ],
   "source": [
    "W=np.random.rand(1,1)\n",
    "b=np.random.rand(1)\n",
    "print('W=',W, 'W.shape=',W.shape,\"b=\",b, 'b.shape=',b.shape)"
   ]
  },
  {
   "cell_type": "code",
   "execution_count": 7,
   "id": "c0ea33d7",
   "metadata": {},
   "outputs": [],
   "source": [
    "def loss_func(x,t):\n",
    "    y=np.dot(x,W)+b\n",
    "    return (np.sum((t-y)**2))/(len(x))"
   ]
  },
  {
   "cell_type": "code",
   "execution_count": 8,
   "id": "8609b11d",
   "metadata": {},
   "outputs": [],
   "source": [
    "def numerical_derivative(f, x):    # 수치미분 debug version\n",
    "    delta_x = 1e-4 \n",
    "    grad = np.zeros_like(x)\n",
    "#     print(\"debug 1. initial input variable =\", x)   \n",
    "#     print(\"debug 2. initial grad =\", grad) \n",
    "#     print(\"=======================================\")\n",
    "    \n",
    "    it = np.nditer(x, flags=['multi_index'], op_flags=['readwrite'])\n",
    "    \n",
    "    while not it.finished:\n",
    "        idx = it.multi_index\n",
    "#         print(\"debug 3. idx = \", idx, \", x[idx] = \", x[idx])   \n",
    "        \n",
    "        tmp_val = x[idx]\n",
    "        x[idx] = float(tmp_val) + delta_x\n",
    "        fx1 = f(x)   # f(x+delta_x)\n",
    "        \n",
    "        x[idx] = tmp_val - delta_x \n",
    "        fx2 = f(x)   # f(x-delta_x)\n",
    "        grad[idx] = (fx1 - fx2) / (2*delta_x)\n",
    "                \n",
    "#         print(\"debug 4. grad[idx] = \", grad[idx])   \n",
    "#         print(\"debug 5. grad = \", grad) \n",
    "#         print(\"=======================================\")\n",
    "        \n",
    "        x[idx] = tmp_val\n",
    "        it.iternext()        \n",
    "    return grad"
   ]
  },
  {
   "cell_type": "code",
   "execution_count": 9,
   "id": "abe7627c",
   "metadata": {},
   "outputs": [],
   "source": [
    "def error_val(x,t):\n",
    "    y=np.dot(x,W)+b\n",
    "    return (np.sum((t-y)**2))/(len(x))"
   ]
  },
  {
   "cell_type": "code",
   "execution_count": 10,
   "id": "99a037c4",
   "metadata": {},
   "outputs": [],
   "source": [
    "def predict(x):\n",
    "    y=np.dot(x,W)+b\n",
    "    return y"
   ]
  },
  {
   "cell_type": "code",
   "execution_count": 11,
   "id": "81ad918a",
   "metadata": {
    "tags": []
   },
   "outputs": [
    {
     "name": "stdout",
     "output_type": "stream",
     "text": [
      "Initial error value= 2.0427560585702422 Initial W= [[0.86052085]]  b= [0.00286435]\n",
      "step= 0 error value= 1.2617766012240987 W= [[0.9510344]] b= [0.025745]\n",
      "step= 400 error value= 0.009601590010195966 W= [[1.06363094]] b= [0.77032836]\n",
      "step= 800 error value= 0.0006126382069896941 W= [[1.01607307]] b= [0.94198533]\n",
      "step= 1200 error value= 3.9089939506372986e-05 W= [[1.00406003]] b= [0.98534559]\n",
      "step= 1600 error value= 2.4941692391672938e-06 W= [[1.00102556]] b= [0.99629832]\n",
      "step= 2000 error value= 1.5914274291957756e-07 W= [[1.00025905]] b= [0.99906496]\n",
      "step= 2400 error value= 1.0154247845829251e-08 W= [[1.00006544]] b= [0.99976381]\n",
      "step= 2800 error value= 6.479010441956934e-10 W= [[1.00001653]] b= [0.99994034]\n",
      "step= 3200 error value= 4.133991699313e-11 W= [[1.00000418]] b= [0.99998493]\n",
      "step= 3600 error value= 2.6377311045307705e-12 W= [[1.00000105]] b= [0.99999619]\n",
      "step= 4000 error value= 1.6830283868207267e-13 W= [[1.00000027]] b= [0.99999904]\n",
      "step= 4400 error value= 1.0738716183217782e-14 W= [[1.00000007]] b= [0.99999976]\n",
      "step= 4800 error value= 6.851935883873527e-16 W= [[1.00000002]] b= [0.99999994]\n",
      "step= 5200 error value= 4.371940279313191e-17 W= [[1.]] b= [0.99999998]\n",
      "step= 5600 error value= 2.789555820759278e-18 W= [[1.]] b= [1.]\n",
      "step= 6000 error value= 1.779902332025697e-19 W= [[1.]] b= [1.]\n",
      "step= 6400 error value= 1.135687172732812e-20 W= [[1.]] b= [1.]\n",
      "step= 6800 error value= 7.246250814969198e-22 W= [[1.]] b= [1.]\n",
      "step= 7200 error value= 4.623044382414906e-23 W= [[1.]] b= [1.]\n",
      "step= 7600 error value= 2.952633674709831e-24 W= [[1.]] b= [1.]\n",
      "step= 8000 error value= 1.891718033003932e-25 W= [[1.]] b= [1.]\n"
     ]
    }
   ],
   "source": [
    "learning_rate=1e-2\n",
    "f=lambda x:loss_func(x_data,t_data)\n",
    "\n",
    "print('Initial error value=',error_val(x_data,t_data),\"Initial W=\",W,\" b=\",b)\n",
    "\n",
    "for step in range(8001):\n",
    "    W-=learning_rate*numerical_derivative(f,W)\n",
    "    b-=learning_rate*numerical_derivative(f,b)\n",
    "    \n",
    "    if (step%400==0):\n",
    "        print(\"step=\",step, \"error value=\",error_val(x_data,t_data),\"W=\",W, \"b=\",b)    "
   ]
  },
  {
   "cell_type": "code",
   "execution_count": 12,
   "id": "c7e9e735",
   "metadata": {},
   "outputs": [
    {
     "data": {
      "text/plain": [
       "array([[11.]])"
      ]
     },
     "execution_count": 12,
     "metadata": {},
     "output_type": "execute_result"
    }
   ],
   "source": [
    "predict(10)"
   ]
  },
  {
   "cell_type": "code",
   "execution_count": 13,
   "id": "b52a95a1",
   "metadata": {},
   "outputs": [
    {
     "data": {
      "text/plain": [
       "array([[51.]])"
      ]
     },
     "execution_count": 13,
     "metadata": {},
     "output_type": "execute_result"
    }
   ],
   "source": [
    "predict(50)"
   ]
  }
 ],
 "metadata": {
  "kernelspec": {
   "display_name": "Python 3",
   "language": "python",
   "name": "python3"
  },
  "language_info": {
   "codemirror_mode": {
    "name": "ipython",
    "version": 3
   },
   "file_extension": ".py",
   "mimetype": "text/x-python",
   "name": "python",
   "nbconvert_exporter": "python",
   "pygments_lexer": "ipython3",
   "version": "3.8.8"
  }
 },
 "nbformat": 4,
 "nbformat_minor": 5
}
