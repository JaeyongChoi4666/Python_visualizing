{
 "cells": [
  {
   "cell_type": "code",
   "execution_count": 3,
   "id": "7c12a921-cc7d-481d-83a8-6ffcddf52814",
   "metadata": {},
   "outputs": [
    {
     "data": {
      "text/plain": [
       "'2.5.0'"
      ]
     },
     "execution_count": 3,
     "metadata": {},
     "output_type": "execute_result"
    }
   ],
   "source": [
    "import tensorflow as tf\n",
    "tf.__version__"
   ]
  },
  {
   "cell_type": "code",
   "execution_count": 7,
   "id": "f2be8996-cd66-4e74-948d-4ca191ab4f55",
   "metadata": {},
   "outputs": [
    {
     "name": "stdout",
     "output_type": "stream",
     "text": [
      "WARNING:tensorflow:From C:\\Users\\ADMIN\\anaconda3\\lib\\site-packages\\tensorflow\\python\\compat\\v2_compat.py:96: disable_resource_variables (from tensorflow.python.ops.variable_scope) is deprecated and will be removed in a future version.\n",
      "Instructions for updating:\n",
      "non-resource variables are not supported in the long term\n"
     ]
    }
   ],
   "source": [
    "import tensorflow.compat.v1 as tf\n",
    "tf.disable_v2_behavior()"
   ]
  },
  {
   "cell_type": "code",
   "execution_count": 8,
   "id": "42a37fee-7c23-4a75-8f03-277304a7573f",
   "metadata": {},
   "outputs": [
    {
     "name": "stdout",
     "output_type": "stream",
     "text": [
      "b'Hello, TesorFlow'\n"
     ]
    }
   ],
   "source": [
    "hello=tf.constant(\"Hello, TesorFlow\")\n",
    "sess=tf.Session()\n",
    "print(sess.run(hello))"
   ]
  },
  {
   "cell_type": "code",
   "execution_count": 10,
   "id": "5f26be3c-88eb-4954-850d-e27aa1683dd0",
   "metadata": {},
   "outputs": [
    {
     "name": "stdout",
     "output_type": "stream",
     "text": [
      "node1= Tensor(\"Const_3:0\", shape=(), dtype=float32)\n",
      "node2= Tensor(\"Const_4:0\", shape=(), dtype=float32)\n",
      "node3= Tensor(\"Add_1:0\", shape=(), dtype=float32)\n"
     ]
    }
   ],
   "source": [
    "node1=tf.constant(3.0,tf.float32)\n",
    "node2=tf.constant(4.0)\n",
    "node3=tf.add(node1, node2)\n",
    "\n",
    "print(\"node1=\",node1)\n",
    "print(\"node2=\",node2)\n",
    "print(\"node3=\",node3)"
   ]
  },
  {
   "cell_type": "code",
   "execution_count": 11,
   "id": "6ebe81aa-f470-47a6-86e2-d714e50cfd77",
   "metadata": {},
   "outputs": [
    {
     "name": "stdout",
     "output_type": "stream",
     "text": [
      "node1= 3.0\n",
      "node2= 4.0\n",
      "node3= 7.0\n"
     ]
    }
   ],
   "source": [
    "sess=tf.Session()\n",
    "print(\"node1=\",sess.run(node1))\n",
    "print(\"node2=\",sess.run(node2))\n",
    "print(\"node3=\",sess.run(node3))"
   ]
  },
  {
   "cell_type": "code",
   "execution_count": 14,
   "id": "7b6e54e3-604e-4b1f-98ab-d0344d608bfc",
   "metadata": {},
   "outputs": [
    {
     "name": "stdout",
     "output_type": "stream",
     "text": [
      "7.5\n",
      "[ 3.  7. 30.]\n"
     ]
    }
   ],
   "source": [
    "a=tf.placeholder(tf.float32)\n",
    "b=tf.placeholder(tf.float32)\n",
    "adder_node=a+b\n",
    "\n",
    "print(sess.run(adder_node, feed_dict={a:3,b:4.5}))\n",
    "print(sess.run(adder_node, feed_dict={a:[1,3,10],b:[2,4,20]}))"
   ]
  },
  {
   "cell_type": "code",
   "execution_count": 15,
   "id": "e879fed1-ef27-4ba4-a86c-4acb9f69fa20",
   "metadata": {},
   "outputs": [
    {
     "name": "stdout",
     "output_type": "stream",
     "text": [
      "22.5\n",
      "[ 9. 21. 90.]\n"
     ]
    }
   ],
   "source": [
    "add_and_triple=adder_node*3\n",
    "print(sess.run(add_and_triple, feed_dict={a:3,b:4.5}))\n",
    "print(sess.run(add_and_triple, feed_dict={a:[1,3,10],b:[2,4,20]}))"
   ]
  }
 ],
 "metadata": {
  "kernelspec": {
   "display_name": "Python 3",
   "language": "python",
   "name": "python3"
  },
  "language_info": {
   "codemirror_mode": {
    "name": "ipython",
    "version": 3
   },
   "file_extension": ".py",
   "mimetype": "text/x-python",
   "name": "python",
   "nbconvert_exporter": "python",
   "pygments_lexer": "ipython3",
   "version": "3.8.8"
  }
 },
 "nbformat": 4,
 "nbformat_minor": 5
}
