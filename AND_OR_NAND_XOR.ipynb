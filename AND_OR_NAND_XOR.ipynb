{
 "cells": [
  {
   "cell_type": "code",
   "execution_count": 22,
   "id": "17fc03a5",
   "metadata": {},
   "outputs": [],
   "source": [
    "import numpy as np\n",
    "\n",
    "# 수치미분 함수\n",
    "\n",
    "def numerical_derivative(f, x):\n",
    "    delta_x = 1e-4 # 0.0001\n",
    "    grad = np.zeros_like(x)\n",
    "    \n",
    "    it = np.nditer(x, flags=['multi_index'], op_flags=['readwrite'])\n",
    "    \n",
    "    while not it.finished:\n",
    "        idx = it.multi_index        \n",
    "        tmp_val = x[idx]\n",
    "        x[idx] = float(tmp_val) + delta_x\n",
    "        fx1 = f(x) # f(x+delta_x)\n",
    "        \n",
    "        x[idx] = tmp_val - delta_x \n",
    "        fx2 = f(x) # f(x-delta_x)\n",
    "        grad[idx] = (fx1 - fx2) / (2*delta_x)\n",
    "        \n",
    "        x[idx] = tmp_val \n",
    "        it.iternext()   \n",
    "        \n",
    "    return grad\n",
    "\n",
    "# sigmoid 함수\n",
    "\n",
    "def sigmoid(x):\n",
    "    return 1 / (1+np.exp(-x))"
   ]
  },
  {
   "cell_type": "code",
   "execution_count": 13,
   "id": "0ba2d265",
   "metadata": {},
   "outputs": [],
   "source": [
    "# LogicGate Class\n",
    "\n",
    "class LogicGate:\n",
    "    \n",
    "    def __init__(self, gate_name, xdata, tdata):  # xdata, tdata => numpy.array(...)\n",
    "        \n",
    "        self.name = gate_name\n",
    "        \n",
    "        # 입력 데이터, 정답 데이터 초기화\n",
    "        self.__xdata = xdata.reshape(4,2)\n",
    "        self.__tdata = tdata.reshape(4,1)\n",
    "        \n",
    "        # 가중치 W, 바이어스 b 초기화\n",
    "        self.__W = np.random.rand(2,1)  # weight, 2 X 1 matrix\n",
    "        self.__b = np.random.rand(1)\n",
    "                        \n",
    "        # 학습률 learning rate 초기화\n",
    "        self.__learning_rate = 1e-2\n",
    "        \n",
    "    # 손실함수\n",
    "    def __loss_func(self):\n",
    "        \n",
    "        delta = 1e-7    # log 무한대 발산 방지\n",
    "    \n",
    "        z = np.dot(self.__xdata, self.__W) + self.__b\n",
    "        y = sigmoid(z)\n",
    "    \n",
    "        # cross-entropy \n",
    "        return  -np.sum( self.__tdata*np.log(y + delta) + (1-self.__tdata)*np.log((1 - y)+delta ) )      \n",
    "    \n",
    "    # 손실 값 계산\n",
    "    def error_val(self):\n",
    "        \n",
    "        delta = 1e-7    # log 무한대 발산 방지\n",
    "    \n",
    "        z = np.dot(self.__xdata, self.__W) + self.__b\n",
    "        y = sigmoid(z)\n",
    "    \n",
    "        # cross-entropy \n",
    "        return  -np.sum( self.__tdata*np.log(y + delta) + (1-self.__tdata)*np.log((1 - y)+delta ) )\n",
    "\n",
    "     # 수치미분을 이용하여 손실함수가 최소가 될때 까지 학습하는 함수\n",
    "    def train(self):\n",
    "        \n",
    "        f = lambda x : self.__loss_func()\n",
    "        \n",
    "        print(\"Initial error value = \", self.error_val())\n",
    "        \n",
    "        for step in  range(8001):\n",
    "            \n",
    "            self.__W -= self.__learning_rate * numerical_derivative(f, self.__W)\n",
    "    \n",
    "            self.__b -= self.__learning_rate * numerical_derivative(f, self.__b)\n",
    "    \n",
    "            if (step % 400 == 0):\n",
    "                print(\"step = \", step, \"error value = \", self.error_val())\n",
    "                \n",
    "                \n",
    "    # 미래 값 예측 함수\n",
    "    def predict(self, input_data):\n",
    "        \n",
    "        z = np.dot(input_data, self.__W) + self.__b\n",
    "        y = sigmoid(z)\n",
    "    \n",
    "        if y > 0.5:\n",
    "            result = 1  # True\n",
    "        else:\n",
    "            result = 0  # False\n",
    "    \n",
    "        return y, result"
   ]
  },
  {
   "cell_type": "code",
   "execution_count": 14,
   "id": "a6e7d39a",
   "metadata": {},
   "outputs": [
    {
     "name": "stdout",
     "output_type": "stream",
     "text": [
      "Initial error value =  2.939195787943593\n",
      "step =  0 error value =  2.9217018119604243\n",
      "step =  400 error value =  1.5522680896153507\n",
      "step =  800 error value =  1.1501342859706898\n",
      "step =  1200 error value =  0.9233570284094701\n",
      "step =  1600 error value =  0.7741229676970495\n",
      "step =  2000 error value =  0.6670504601436105\n",
      "step =  2400 error value =  0.5859628201166619\n",
      "step =  2800 error value =  0.522234690105263\n",
      "step =  3200 error value =  0.4707654690309148\n",
      "step =  3600 error value =  0.42831094908145806\n",
      "step =  4000 error value =  0.39269408109686565\n",
      "step =  4400 error value =  0.36239281794112493\n",
      "step =  4800 error value =  0.3363079835053868\n",
      "step =  5200 error value =  0.3136245747300036\n",
      "step =  5600 error value =  0.2937248800920194\n",
      "step =  6000 error value =  0.27613191715846236\n",
      "step =  6400 error value =  0.2604714095633623\n",
      "step =  6800 error value =  0.24644552503466244\n",
      "step =  7200 error value =  0.23381431037125622\n",
      "step =  7600 error value =  0.22238230003193793\n",
      "step =  8000 error value =  0.21198868384763736\n"
     ]
    }
   ],
   "source": [
    "# AND Gate 객체 생성 및 training\n",
    "\n",
    "xdata = np.array([ [0, 0], [0, 1], [1, 0], [1, 1] ])\n",
    "tdata = np.array([0, 0, 0, 1])\n",
    "\n",
    "and_obj = LogicGate(\"AND\", xdata, tdata)\n",
    "\n",
    "and_obj.train()"
   ]
  },
  {
   "cell_type": "code",
   "execution_count": 15,
   "id": "142d34d9",
   "metadata": {},
   "outputs": [
    {
     "name": "stdout",
     "output_type": "stream",
     "text": [
      "(array([0.00037388]), 0)\n",
      "(array([0.05996063]), 0)\n",
      "(array([0.0599576]), 0)\n",
      "(array([0.91580545]), 1)\n"
     ]
    }
   ],
   "source": [
    "# AND Gate prediction\n",
    "\n",
    "test_data = np.array([ [0, 0], [0, 1], [1, 0], [1, 1] ])\n",
    "\n",
    "for data in test_data:\n",
    "    print(and_obj.predict(data))"
   ]
  },
  {
   "cell_type": "code",
   "execution_count": 16,
   "id": "5bfa7bd0",
   "metadata": {},
   "outputs": [
    {
     "name": "stdout",
     "output_type": "stream",
     "text": [
      "Initial error value =  1.781572106278876\n",
      "step =  0 error value =  1.7747900747059362\n",
      "step =  400 error value =  1.04150633664316\n",
      "step =  800 error value =  0.7658265348595408\n",
      "step =  1200 error value =  0.6003773550883746\n",
      "step =  1600 error value =  0.49099014853317374\n",
      "step =  2000 error value =  0.4137588200321863\n",
      "step =  2400 error value =  0.35658193858031945\n",
      "step =  2800 error value =  0.3126985001199069\n",
      "step =  3200 error value =  0.27804723479077775\n",
      "step =  3600 error value =  0.25004918722168573\n",
      "step =  4000 error value =  0.22699264895736018\n",
      "step =  4400 error value =  0.20769964596834062\n",
      "step =  4800 error value =  0.1913346015444583\n",
      "step =  5200 error value =  0.1772893649396337\n",
      "step =  5600 error value =  0.16511139089868646\n",
      "step =  6000 error value =  0.1544573620316915\n",
      "step =  6400 error value =  0.14506236863314\n",
      "step =  6800 error value =  0.13671890601416797\n",
      "step =  7200 error value =  0.1292622407647886\n",
      "step =  7600 error value =  0.12256001103061798\n",
      "step =  8000 error value =  0.11650470360442487\n"
     ]
    }
   ],
   "source": [
    "# OR Gate 객체 생성 및 training\n",
    "\n",
    "xdata = np.array([ [0, 0], [0, 1], [1, 0], [1, 1] ])\n",
    "tdata = np.array([0, 1, 1, 1])\n",
    "\n",
    "or_obj = LogicGate(\"OR\", xdata, tdata)\n",
    "\n",
    "or_obj.train()"
   ]
  },
  {
   "cell_type": "code",
   "execution_count": 17,
   "id": "1447f443",
   "metadata": {},
   "outputs": [
    {
     "name": "stdout",
     "output_type": "stream",
     "text": [
      "(array([0.06333503]), 0)\n",
      "(array([0.97481668]), 1)\n",
      "(array([0.97479851]), 1)\n",
      "(array([0.99995484]), 1)\n"
     ]
    }
   ],
   "source": [
    "# OR Gate prediction\n",
    "\n",
    "test_data = np.array([ [0, 0], [0, 1], [1, 0], [1, 1] ])\n",
    "\n",
    "for data in test_data:\n",
    "    print(or_obj.predict(data))"
   ]
  },
  {
   "cell_type": "code",
   "execution_count": 18,
   "id": "1b2778a8",
   "metadata": {},
   "outputs": [
    {
     "name": "stdout",
     "output_type": "stream",
     "text": [
      "Initial error value =  2.8512327966080475\n",
      "step =  0 error value =  2.8460847681369996\n",
      "step =  400 error value =  1.6697591564681857\n",
      "step =  800 error value =  1.2083567408683091\n",
      "step =  1200 error value =  0.9590649320281897\n",
      "step =  1600 error value =  0.798697519259999\n",
      "step =  2000 error value =  0.6851615408270308\n",
      "step =  2400 error value =  0.5999249015352528\n",
      "step =  2800 error value =  0.5333486432736853\n",
      "step =  3200 error value =  0.47982886454436435\n",
      "step =  3600 error value =  0.43584442274920926\n",
      "step =  4000 error value =  0.3990538810290387\n",
      "step =  4400 error value =  0.3678318121188081\n",
      "step =  4800 error value =  0.3410110192630409\n",
      "step =  5200 error value =  0.31773008846647355\n",
      "step =  5600 error value =  0.2973386821048589\n",
      "step =  6000 error value =  0.2793363010139589\n",
      "step =  6400 error value =  0.26333135266842755\n",
      "step =  6800 error value =  0.24901301698997325\n",
      "step =  7200 error value =  0.23613144087402593\n",
      "step =  7600 error value =  0.22448350409997062\n",
      "step =  8000 error value =  0.21390240195047938\n"
     ]
    }
   ],
   "source": [
    "# NAND Gate 객체 생성 및 training\n",
    "\n",
    "xdata = np.array([ [0, 0], [0, 1], [1, 0], [1, 1] ])\n",
    "tdata = np.array([1, 1, 1, 0])\n",
    "\n",
    "nand_obj = LogicGate(\"NAND\", xdata, tdata)\n",
    "\n",
    "nand_obj.train()"
   ]
  },
  {
   "cell_type": "code",
   "execution_count": 19,
   "id": "40be79b4",
   "metadata": {},
   "outputs": [
    {
     "name": "stdout",
     "output_type": "stream",
     "text": [
      "(array([0.99961559]), 1)\n",
      "(array([0.93952403]), 1)\n",
      "(array([0.9395207]), 1)\n",
      "(array([0.08492663]), 0)\n"
     ]
    }
   ],
   "source": [
    "# NAND Gate prediction\n",
    "\n",
    "test_data = np.array([ [0, 0], [0, 1], [1, 0], [1, 1] ])\n",
    "\n",
    "for data in test_data:\n",
    "    print(nand_obj.predict(data))"
   ]
  },
  {
   "cell_type": "code",
   "execution_count": 20,
   "id": "31620546",
   "metadata": {},
   "outputs": [
    {
     "name": "stdout",
     "output_type": "stream",
     "text": [
      "Initial error value =  3.815300595667015\n",
      "step =  0 error value =  3.7919925137021906\n",
      "step =  400 error value =  2.779421892394409\n",
      "step =  800 error value =  2.7743989357539007\n",
      "step =  1200 error value =  2.7730841747738957\n",
      "step =  1600 error value =  2.772726254787915\n",
      "step =  2000 error value =  2.772626814657888\n",
      "step =  2400 error value =  2.7725989027018154\n",
      "step =  2800 error value =  2.7725910285985305\n",
      "step =  3200 error value =  2.772588801874167\n",
      "step =  3600 error value =  2.772588171442833\n",
      "step =  4000 error value =  2.7725879928553447\n",
      "step =  4400 error value =  2.7725879422519433\n",
      "step =  4800 error value =  2.772587927911471\n",
      "step =  5200 error value =  2.772587923847287\n",
      "step =  5600 error value =  2.7725879226954366\n",
      "step =  6000 error value =  2.772587922368981\n",
      "step =  6400 error value =  2.7725879222764567\n",
      "step =  6800 error value =  2.772587922250233\n",
      "step =  7200 error value =  2.772587922242801\n",
      "step =  7600 error value =  2.772587922240694\n",
      "step =  8000 error value =  2.7725879222400978\n"
     ]
    }
   ],
   "source": [
    "# XOR Gate 객체 생성\n",
    "\n",
    "xdata = np.array([ [0, 0], [0, 1], [1, 0], [1, 1] ])\n",
    "tdata = np.array([0, 1, 1, 0])\n",
    "\n",
    "\n",
    "xor_obj = LogicGate(\"XOR\", xdata, tdata)\n",
    "\n",
    "xor_obj.train()"
   ]
  },
  {
   "cell_type": "code",
   "execution_count": 21,
   "id": "1fdae5c3",
   "metadata": {},
   "outputs": [
    {
     "name": "stdout",
     "output_type": "stream",
     "text": [
      "(array([0.49999972]), 0)\n",
      "(array([0.49999996]), 0)\n",
      "(array([0.49999996]), 0)\n",
      "(array([0.50000019]), 1)\n"
     ]
    }
   ],
   "source": [
    "test_data = np.array([ [0, 0], [0, 1], [1, 0], [1, 1] ])\n",
    "\n",
    "for data in test_data:\n",
    "    print(xor_obj.predict(data))"
   ]
  },
  {
   "cell_type": "code",
   "execution_count": 24,
   "id": "e7ea542b",
   "metadata": {},
   "outputs": [
    {
     "name": "stdout",
     "output_type": "stream",
     "text": [
      "[0 0]  =  0\n",
      "\n",
      "[0 1]  =  1\n",
      "\n",
      "[1 0]  =  1\n",
      "\n",
      "[1 1]  =  0\n",
      "\n"
     ]
    }
   ],
   "source": [
    "# XOR 을 NAND + OR => AND 조합으로 계산함\n",
    "input_data = np.array([ [0, 0], [0, 1], [1, 0], [1, 1] ])\n",
    "\n",
    "s1 = []    # NAND 출력\n",
    "s2 = []    # OR 출력\n",
    "\n",
    "new_input_data = []  # AND 입력\n",
    "final_output = []    # AND 출력\n",
    "\n",
    "for index in range(len(input_data)):\n",
    "    \n",
    "    s1 = nand_obj.predict(input_data[index])  # NAND 출력\n",
    "    s2 = or_obj.predict(input_data[index])    # OR 출력\n",
    "    \n",
    "    new_input_data.append(s1[-1])    # AND 입력\n",
    "    new_input_data.append(s2[-1])    # AND 입력\n",
    "    \n",
    "    (sigmoid_val, logical_val) = and_obj.predict(np.array(new_input_data))\n",
    "    \n",
    "    final_output.append(logical_val)    # AND 출력, 즉 XOR 출력    \n",
    "    new_input_data = []    # AND 입력 초기화\n",
    "\n",
    "\n",
    "for index in range(len(input_data)):    \n",
    "    print(input_data[index], \" = \", final_output[index], end='')\n",
    "    print(\"\\n\")"
   ]
  }
 ],
 "metadata": {
  "kernelspec": {
   "display_name": "Python 3",
   "language": "python",
   "name": "python3"
  },
  "language_info": {
   "codemirror_mode": {
    "name": "ipython",
    "version": 3
   },
   "file_extension": ".py",
   "mimetype": "text/x-python",
   "name": "python",
   "nbconvert_exporter": "python",
   "pygments_lexer": "ipython3",
   "version": "3.8.8"
  }
 },
 "nbformat": 4,
 "nbformat_minor": 5
}
